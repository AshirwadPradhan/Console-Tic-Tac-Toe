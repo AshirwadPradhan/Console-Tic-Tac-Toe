{
 "cells": [
  {
   "cell_type": "code",
   "execution_count": 1,
   "metadata": {
    "collapsed": false
   },
   "outputs": [],
   "source": [
    "from IPython.display import clear_output\n",
    "def display_board(board):\n",
    "    \"\"\"\n",
    "    function to display the board\n",
    "    \"\"\"\n",
    "    #helps to update the current board so that it shows only the board\n",
    "    #with current moves\n",
    "    clear_output()\n",
    "    \n",
    "    #print the board with moves\n",
    "    print('{}'.format(board[1])+'|'+'{}'.format(board[2])+'|'+'{}'.format(board[3]))\n",
    "    print('{}'.format(board[4])+'|'+'{}'.format(board[5])+'|'+'{}'.format(board[6]))\n",
    "    print('{}'.format(board[7])+'|'+'{}'.format(board[8])+'|'+'{}'.format(board[9]))\n",
    "\n",
    "    "
   ]
  },
  {
   "cell_type": "code",
   "execution_count": 2,
   "metadata": {
    "collapsed": false
   },
   "outputs": [
    {
     "name": "stdout",
     "output_type": "stream",
     "text": [
      "X|O|X\n",
      "O|X|O\n",
      "X|O|X\n"
     ]
    }
   ],
   "source": [
    "test_board = ['#','X','O','X','O','X','O','X','O','X']\n",
    "display_board(test_board)"
   ]
  },
  {
   "cell_type": "code",
   "execution_count": 3,
   "metadata": {
    "collapsed": true
   },
   "outputs": [],
   "source": [
    "def player_input():\n",
    "    s_player1 = input('Enter symbol for player 1 \"X\" or \"O\"')\n",
    "    return s_player1"
   ]
  },
  {
   "cell_type": "code",
   "execution_count": 4,
   "metadata": {
    "collapsed": false
   },
   "outputs": [],
   "source": [
    "def check_win(board):\n",
    "    if board[7] == board[8] == board[9]:\n",
    "        return board[7]\n",
    "    elif board[1] == board[2] == board[3]:\n",
    "        return board[1]\n",
    "    elif board[4] == board[5] == board[6]:\n",
    "        return board[4]\n",
    "    elif board[1] == board[4] == board[7]:\n",
    "        return board[1]\n",
    "    elif board[2] == board[5] == board[8]:\n",
    "        return board[2]\n",
    "    elif board[3] == board[6] == board[9]:\n",
    "        return board[3]\n",
    "    elif board[1] == board[5] == board[9]:\n",
    "        return board[1]\n",
    "    elif board[3] == board[5] == board[7]:\n",
    "        return board[3]\n",
    "    else:\n",
    "        return '#'"
   ]
  },
  {
   "cell_type": "code",
   "execution_count": 5,
   "metadata": {
    "collapsed": false
   },
   "outputs": [],
   "source": [
    "def check_tie(board):\n",
    "    if check_board_full(board):\n",
    "        win_symbol = check_win(board)\n",
    "        if win_symbol == '#':\n",
    "            return True\n",
    "    return False"
   ]
  },
  {
   "cell_type": "code",
   "execution_count": 6,
   "metadata": {
    "collapsed": false
   },
   "outputs": [],
   "source": [
    "def check_board_full(board):\n",
    "    for inputs in board:\n",
    "        if inputs == ' ':\n",
    "            return False\n",
    "    return True"
   ]
  },
  {
   "cell_type": "code",
   "execution_count": null,
   "metadata": {
    "collapsed": false
   },
   "outputs": [
    {
     "name": "stderr",
     "output_type": "stream",
     "text": [
      "<ipython-input-7-d5ca48ba9d66>:50: SyntaxWarning: name 'game_continue' is used prior to global declaration\n",
      "  global game_continue\n",
      "<ipython-input-7-d5ca48ba9d66>:52: SyntaxWarning: name 'board' is used prior to global declaration\n",
      "  global board\n",
      "<ipython-input-7-d5ca48ba9d66>:55: SyntaxWarning: name 'game_continue' is used prior to global declaration\n",
      "  global game_continue\n"
     ]
    }
   ],
   "source": [
    "board = ['#',' ',' ',' ',' ',' ',' ',' ',' ',' ']\n",
    "game_continue = True\n",
    "\n",
    "def game_loop():\n",
    "    global game_continue\n",
    "    while(game_continue == True):\n",
    "        first_player = player_input()\n",
    "        if first_player == 'X':\n",
    "            second_player = 'O'\n",
    "        elif first_player == 'O':\n",
    "            second_player = 'X'\n",
    "        else:\n",
    "            print('Invalid input')\n",
    "        \n",
    "        while(not check_board_full(board)):\n",
    "            first_player_input = int(input('Enter the input for first player'))\n",
    "            board[first_player_input] = first_player\n",
    "            \n",
    "            display_board(board)\n",
    "            win = check_win(board)\n",
    "            tie = check_tie(board)\n",
    "            \n",
    "            if tie == True:\n",
    "                print('Game Tied!!')\n",
    "                break\n",
    "                    \n",
    "            if win == 'X':\n",
    "                if first_player == win:\n",
    "                    print('Game won by player 1!!')\n",
    "                    break\n",
    "                elif second_player == win:\n",
    "                    print('Game won by player 2!!')\n",
    "                    break\n",
    "            elif win == 'O':\n",
    "                if first_player == win:\n",
    "                    print('Game won by player 1!!')\n",
    "                    break\n",
    "                elif second_player == win:\n",
    "                    print('Game won by player 2!!')\n",
    "                    break\n",
    "            \n",
    "            first_player_input = int(input('Enter the input for second player'))\n",
    "            board[first_player_input] = second_player\n",
    "            \n",
    "            display_board(board)\n",
    "            \n",
    "                \n",
    "        play_again = input('Want to play again? Y or N')\n",
    "        if play_again.lower() == 'y':\n",
    "            global game_continue\n",
    "            game_continue == True\n",
    "            global board\n",
    "            board = ['#',' ',' ',' ',' ',' ',' ',' ',' ',' ']\n",
    "        elif play_again.lower() == 'n':\n",
    "            global game_continue\n",
    "            game_continue = False            \n",
    "    "
   ]
  },
  {
   "cell_type": "code",
   "execution_count": null,
   "metadata": {
    "collapsed": false
   },
   "outputs": [
    {
     "name": "stdout",
     "output_type": "stream",
     "text": [
      "X| | \n",
      " | | \n",
      " | | \n"
     ]
    }
   ],
   "source": [
    "game_loop()"
   ]
  },
  {
   "cell_type": "code",
   "execution_count": null,
   "metadata": {
    "collapsed": false
   },
   "outputs": [],
   "source": [
    "game_loop()"
   ]
  },
  {
   "cell_type": "code",
   "execution_count": null,
   "metadata": {
    "collapsed": true
   },
   "outputs": [],
   "source": []
  }
 ],
 "metadata": {
  "anaconda-cloud": {},
  "kernelspec": {
   "display_name": "Python [conda root]",
   "language": "python",
   "name": "conda-root-py"
  },
  "language_info": {
   "codemirror_mode": {
    "name": "ipython",
    "version": 3
   },
   "file_extension": ".py",
   "mimetype": "text/x-python",
   "name": "python",
   "nbconvert_exporter": "python",
   "pygments_lexer": "ipython3",
   "version": "3.5.2"
  }
 },
 "nbformat": 4,
 "nbformat_minor": 1
}
